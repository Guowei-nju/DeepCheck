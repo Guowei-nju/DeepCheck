{
 "cells": [
  {
   "cell_type": "markdown",
   "metadata": {},
   "source": [
    "# Welcome to DeepCheck for evaluating macro genome assemblies!\n",
    "There are three steps to use DeepCheck. "
   ]
  },
  {
   "cell_type": "markdown",
   "metadata": {},
   "source": [
    "##the first step generates features for DeepCheck input!\n",
    "\n"
   ]
  },
  {
   "cell_type": "code",
   "execution_count": null,
   "metadata": {},
   "outputs": [],
   "source": [
    "import pickle\n",
    "from os import listdir\n",
    "import pandas as pd\n",
    "from scipy.sparse import csr_matrix, vstack\n",
    "import numpy as np\n",
    "from scipy.sparse import csr_matrix\n",
    "from scipy.sparse import coo_matrix, vstack, hstack\n",
    "from scipy import sparse\n",
    "import warnings\n",
    "import process_data\n",
    "import torch\n",
    "import numpy as np\n",
    "from scipy.sparse import load_npz\n",
    "from model import ResidualBlock, ResNet\n",
    "import os\n",
    "#读取pkl文件\n",
    "import pickle\n",
    "#读取pkl文件\n",
    "import pandas as pd\n",
    "#读取pkl文件\n",
    "warnings.simplefilter(action='ignore', category=pd.errors.PerformanceWarning)"
   ]
  },
  {
   "cell_type": "code",
   "execution_count": null,
   "metadata": {},
   "outputs": [],
   "source": [
    "# 在Jupyter Notebook中运行以下代码\n",
    "input_folder = \"path/to/your/folder_with_bins\"  \n",
    "output_folder = \"path/to/your/output_folder\"\n",
    "\n",
    "# 调用Python脚本\n",
    "!python generate_features.py {input_folder} {output_folder}"
   ]
  },
  {
   "cell_type": "markdown",
   "metadata": {},
   "source": [
    "\n",
    "input_folder: You need to predict the sequence of bin's fasta\n",
    "output_folder :The output of the feature is a pkl file"
   ]
  },
  {
   "cell_type": "code",
   "execution_count": null,
   "metadata": {},
   "outputs": [],
   "source": [
    "fasta_names=[]  #\n",
    "fast_features_matrix=process_data.read_feature(fasta_names)"
   ]
  },
  {
   "cell_type": "markdown",
   "metadata": {},
   "source": [
    "#Call process_data.read_feature to read the feature matrix for loading the model"
   ]
  },
  {
   "cell_type": "code",
   "execution_count": null,
   "metadata": {},
   "outputs": [],
   "source": [
    "\n",
    "def predict_completeness_and_contamination(fast_features_matrix, model_path, device):\n",
    "    # Load the model\n",
    "    model = ResNet(ResidualBlock, [2, 2, 2, 2])\n",
    "    model.load_state_dict(torch.load(model_path))\n",
    "    model.to(device)\n",
    "    model.eval()\n",
    "\n",
    "    # Preprocess the input data\n",
    "    zero_padded_features = np.zeros((fast_features_matrix.shape[0], 20164))\n",
    "    zero_padded_features[:, :20021] = fast_features_matrix\n",
    "    image_shape = (142, 142)\n",
    "\n",
    "    # Convert to PyTorch tensor\n",
    "    inputs = torch.Tensor(zero_padded_features).reshape(-1, 1, *image_shape).to(device)\n",
    "\n",
    "    # Make predictions\n",
    "    with torch.no_grad():\n",
    "        outputs_comp, outputs_cont = model(inputs)\n",
    "\n",
    "    # Convert predictions to numpy arrays\n",
    "    predictions_comp = outputs_comp.cpu().numpy() * 100\n",
    "    predictions_cont = outputs_cont.cpu().numpy() * 100\n",
    "\n",
    "    return predictions_comp, predictions_cont"
   ]
  },
  {
   "cell_type": "markdown",
   "metadata": {},
   "source": [
    "# load the model"
   ]
  },
  {
   "cell_type": "code",
   "execution_count": null,
   "metadata": {},
   "outputs": [],
   "source": [
    "\n",
    "model_path = 'models/best_model.pt'\n",
    "device = torch.device(\"cuda:0\" if torch.cuda.is_available() else \"cpu\")\n",
    "\n"
   ]
  },
  {
   "cell_type": "markdown",
   "metadata": {},
   "source": [
    "# #Predicting contamination and completeness"
   ]
  },
  {
   "cell_type": "code",
   "execution_count": null,
   "metadata": {},
   "outputs": [],
   "source": [
    "predictions_comp, predictions_cont = predict_completeness_and_contamination(fast_features_matrix, model_path, device)\n",
    "\n",
    "print(\"Predicted Completeness:\", predictions_comp)\n",
    "print(\"Predicted Contamination:\", predictions_cont)"
   ]
  }
 ],
 "metadata": {
  "language_info": {
   "name": "python"
  }
 },
 "nbformat": 4,
 "nbformat_minor": 2
}
